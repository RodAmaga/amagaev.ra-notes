{
 "cells": [
  {
   "cell_type": "code",
   "execution_count": null,
   "id": "e3c03fff",
   "metadata": {
    "papermill": {
     "duration": 0.004516,
     "end_time": "2022-04-01T10:27:10.160731",
     "exception": false,
     "start_time": "2022-04-01T10:27:10.156215",
     "status": "completed"
    },
    "tags": []
   },
   "outputs": [],
   "source": []
  },
  {
   "cell_type": "code",
   "execution_count": 1,
   "id": "a5a80626",
   "metadata": {
    "execution": {
     "iopub.execute_input": "2022-04-01T10:27:10.181268Z",
     "iopub.status.busy": "2022-04-01T10:27:10.180442Z",
     "iopub.status.idle": "2022-04-01T10:27:10.184646Z",
     "shell.execute_reply": "2022-04-01T10:27:10.185249Z",
     "shell.execute_reply.started": "2022-04-01T10:18:01.457352Z"
    },
    "papermill": {
     "duration": 0.020083,
     "end_time": "2022-04-01T10:27:10.185610",
     "exception": false,
     "start_time": "2022-04-01T10:27:10.165527",
     "status": "completed"
    },
    "tags": []
   },
   "outputs": [
    {
     "name": "stdout",
     "output_type": "stream",
     "text": [
      "Hello world\n"
     ]
    }
   ],
   "source": [
    "print(\"Hello world\")"
   ]
  }
 ],
 "metadata": {
  "kernelspec": {
   "display_name": "Python 3",
   "language": "python",
   "name": "python3"
  },
  "language_info": {
   "codemirror_mode": {
    "name": "ipython",
    "version": 3
   },
   "file_extension": ".py",
   "mimetype": "text/x-python",
   "name": "python",
   "nbconvert_exporter": "python",
   "pygments_lexer": "ipython3",
   "version": "3.7.12"
  },
  "papermill": {
   "default_parameters": {},
   "duration": 10.152526,
   "end_time": "2022-04-01T10:27:10.799431",
   "environment_variables": {},
   "exception": null,
   "input_path": "__notebook__.ipynb",
   "output_path": "__notebook__.ipynb",
   "parameters": {},
   "start_time": "2022-04-01T10:27:00.646905",
   "version": "2.3.3"
  }
 },
 "nbformat": 4,
 "nbformat_minor": 5
}
