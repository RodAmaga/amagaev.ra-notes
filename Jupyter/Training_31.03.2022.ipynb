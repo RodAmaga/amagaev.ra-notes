{
  "metadata": {
    "language_info": {
      "codemirror_mode": {
        "name": "python",
        "version": 3
      },
      "file_extension": ".py",
      "mimetype": "text/x-python",
      "name": "python",
      "nbconvert_exporter": "python",
      "pygments_lexer": "ipython3",
      "version": "3.8"
    },
    "kernelspec": {
      "name": "python",
      "display_name": "Pyolite",
      "language": "python"
    }
  },
  "nbformat_minor": 4,
  "nbformat": 4,
  "cells": [
    {
      "cell_type": "code",
      "source": "a = \"Thomas\"\nprint(a, \",\", \"Hello world\")\n",
      "metadata": {
        "jupyter": {
          "source_hidden": true,
          "outputs_hidden": true
        },
        "tags": [],
        "collapsed": true,
        "trusted": true
      },
      "execution_count": 7,
      "outputs": [
        {
          "name": "stdout",
          "text": "Thomas , Hello world\n",
          "output_type": "stream"
        }
      ]
    },
    {
      "cell_type": "code",
      "source": "",
      "metadata": {
        "tags": [],
        "jupyter": {
          "source_hidden": true
        }
      },
      "execution_count": null,
      "outputs": []
    }
  ]
}